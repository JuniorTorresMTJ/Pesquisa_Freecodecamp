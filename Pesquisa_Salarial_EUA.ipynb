{
  "nbformat": 4,
  "nbformat_minor": 0,
  "metadata": {
    "colab": {
      "name": "Pesquisa_Salarial_EUA.ipynb",
      "provenance": [],
      "authorship_tag": "ABX9TyMIkm7Ba5RrnwDDo/psxCX+",
      "include_colab_link": true
    },
    "kernelspec": {
      "name": "python3",
      "display_name": "Python 3"
    }
  },
  "cells": [
    {
      "cell_type": "markdown",
      "metadata": {
        "id": "view-in-github",
        "colab_type": "text"
      },
      "source": [
        "<a href=\"https://colab.research.google.com/github/JuniorTorresMTJ/Pesquisa_Freecodecamp/blob/main/Pesquisa_Salarial_EUA.ipynb\" target=\"_parent\"><img src=\"https://colab.research.google.com/assets/colab-badge.svg\" alt=\"Open In Colab\"/></a>"
      ]
    },
    {
      "cell_type": "markdown",
      "metadata": {
        "id": "e3aGI1sz1CKw"
      },
      "source": [
        "#Objetivo\n"
      ]
    },
    {
      "cell_type": "markdown",
      "metadata": {
        "id": "k5X3l4o2zdQ_"
      },
      "source": [
        "Utilizemos uma pesquisa nos EUA sobre o mercado de trabalho para programadores de software. Esse notebook tem como objetivo fazer um análise exploratória a fim de detectar problemas com os dados, necessidade de mais váriaveis, falhas na organizações e necessidades de transformação.\n",
        "\n",
        "\n"
      ]
    },
    {
      "cell_type": "markdown",
      "metadata": {
        "id": "FLUz16v30utz"
      },
      "source": [
        "A pesquisa foi realizada pelo site : https://www.freecodecamp.com com programadores de software nos EUA qe frequentaram treinamentos de Bootcamp."
      ]
    },
    {
      "cell_type": "markdown",
      "metadata": {
        "id": "mq5gJwv_1FKN"
      },
      "source": [
        "#Importações\n"
      ]
    },
    {
      "cell_type": "code",
      "metadata": {
        "id": "-TyDkVidzCTx"
      },
      "source": [
        "# Importando os pacotes \n",
        "import numpy as np\n",
        "import pandas as pd\n",
        "import matplotlib as mat\n",
        "import matplotlib.pyplot as plt\n",
        "import colorsys\n",
        "plt.style.use('seaborn-talk')"
      ],
      "execution_count": 1,
      "outputs": []
    },
    {
      "cell_type": "markdown",
      "metadata": {
        "id": "aXXaaXzB1weW"
      },
      "source": [
        "#Carregamento do Dataset"
      ]
    },
    {
      "cell_type": "code",
      "metadata": {
        "id": "N53DGX-91J-_"
      },
      "source": [
        "df =  pd.read_csv(\"https://github.com/JuniorTorresMTJ/Pesquisa_Freecodecamp/blob/main/Dados-Pesquisa.csv?raw=true\", sep = ',', low_memory=False )"
      ],
      "execution_count": 2,
      "outputs": []
    },
    {
      "cell_type": "markdown",
      "metadata": {
        "id": "lP158Ld18iYv"
      },
      "source": [
        "#Explorando o Dataset"
      ]
    },
    {
      "cell_type": "code",
      "metadata": {
        "id": "_RVbXkWp24oQ",
        "outputId": "44f9d7bb-94f7-45bd-f4e1-f57f8ed18aff",
        "colab": {
          "base_uri": "https://localhost:8080/",
          "height": 437
        }
      },
      "source": [
        "df.head()"
      ],
      "execution_count": 3,
      "outputs": [
        {
          "output_type": "execute_result",
          "data": {
            "text/html": [
              "<div>\n",
              "<style scoped>\n",
              "    .dataframe tbody tr th:only-of-type {\n",
              "        vertical-align: middle;\n",
              "    }\n",
              "\n",
              "    .dataframe tbody tr th {\n",
              "        vertical-align: top;\n",
              "    }\n",
              "\n",
              "    .dataframe thead th {\n",
              "        text-align: right;\n",
              "    }\n",
              "</style>\n",
              "<table border=\"1\" class=\"dataframe\">\n",
              "  <thead>\n",
              "    <tr style=\"text-align: right;\">\n",
              "      <th></th>\n",
              "      <th>Age</th>\n",
              "      <th>AttendedBootcamp</th>\n",
              "      <th>BootcampFinish</th>\n",
              "      <th>BootcampFullJobAfter</th>\n",
              "      <th>BootcampLoanYesNo</th>\n",
              "      <th>BootcampMonthsAgo</th>\n",
              "      <th>BootcampName</th>\n",
              "      <th>BootcampPostSalary</th>\n",
              "      <th>BootcampRecommend</th>\n",
              "      <th>ChildrenNumber</th>\n",
              "      <th>CityPopulation</th>\n",
              "      <th>CodeEventBootcamp</th>\n",
              "      <th>CodeEventCoffee</th>\n",
              "      <th>CodeEventConferences</th>\n",
              "      <th>CodeEventDjangoGirls</th>\n",
              "      <th>CodeEventGameJam</th>\n",
              "      <th>CodeEventGirlDev</th>\n",
              "      <th>CodeEventHackathons</th>\n",
              "      <th>CodeEventMeetup</th>\n",
              "      <th>CodeEventNodeSchool</th>\n",
              "      <th>CodeEventNone</th>\n",
              "      <th>CodeEventOther</th>\n",
              "      <th>CodeEventRailsBridge</th>\n",
              "      <th>CodeEventRailsGirls</th>\n",
              "      <th>CodeEventStartUpWknd</th>\n",
              "      <th>CodeEventWomenCode</th>\n",
              "      <th>CodeEventWorkshop</th>\n",
              "      <th>CommuteTime</th>\n",
              "      <th>CountryCitizen</th>\n",
              "      <th>CountryLive</th>\n",
              "      <th>EmploymentField</th>\n",
              "      <th>EmploymentFieldOther</th>\n",
              "      <th>EmploymentStatus</th>\n",
              "      <th>EmploymentStatusOther</th>\n",
              "      <th>ExpectedEarning</th>\n",
              "      <th>FinanciallySupporting</th>\n",
              "      <th>Gender</th>\n",
              "      <th>HasChildren</th>\n",
              "      <th>HasDebt</th>\n",
              "      <th>HasFinancialDependents</th>\n",
              "      <th>...</th>\n",
              "      <th>PodcastHanselminutes</th>\n",
              "      <th>PodcastJSJabber</th>\n",
              "      <th>PodcastJsAir</th>\n",
              "      <th>PodcastNone</th>\n",
              "      <th>PodcastOther</th>\n",
              "      <th>PodcastProgrammingThrowDown</th>\n",
              "      <th>PodcastRubyRogues</th>\n",
              "      <th>PodcastSEDaily</th>\n",
              "      <th>PodcastShopTalk</th>\n",
              "      <th>PodcastTalkPython</th>\n",
              "      <th>PodcastWebAhead</th>\n",
              "      <th>ResourceBlogs</th>\n",
              "      <th>ResourceBooks</th>\n",
              "      <th>ResourceCodeWars</th>\n",
              "      <th>ResourceCodecademy</th>\n",
              "      <th>ResourceCoursera</th>\n",
              "      <th>ResourceDevTips</th>\n",
              "      <th>ResourceEdX</th>\n",
              "      <th>ResourceEggHead</th>\n",
              "      <th>ResourceFCC</th>\n",
              "      <th>ResourceGoogle</th>\n",
              "      <th>ResourceHackerRank</th>\n",
              "      <th>ResourceKhanAcademy</th>\n",
              "      <th>ResourceLynda</th>\n",
              "      <th>ResourceMDN</th>\n",
              "      <th>ResourceOdinProj</th>\n",
              "      <th>ResourceOther</th>\n",
              "      <th>ResourcePluralSight</th>\n",
              "      <th>ResourceReddit</th>\n",
              "      <th>ResourceSkillCrush</th>\n",
              "      <th>ResourceSoloLearn</th>\n",
              "      <th>ResourceStackOverflow</th>\n",
              "      <th>ResourceTreehouse</th>\n",
              "      <th>ResourceUdacity</th>\n",
              "      <th>ResourceUdemy</th>\n",
              "      <th>ResourceW3Schools</th>\n",
              "      <th>ResourceYouTube</th>\n",
              "      <th>SchoolDegree</th>\n",
              "      <th>SchoolMajor</th>\n",
              "      <th>StudentDebtOwe</th>\n",
              "    </tr>\n",
              "  </thead>\n",
              "  <tbody>\n",
              "    <tr>\n",
              "      <th>0</th>\n",
              "      <td>28.0</td>\n",
              "      <td>0.0</td>\n",
              "      <td>NaN</td>\n",
              "      <td>NaN</td>\n",
              "      <td>NaN</td>\n",
              "      <td>NaN</td>\n",
              "      <td>NaN</td>\n",
              "      <td>NaN</td>\n",
              "      <td>NaN</td>\n",
              "      <td>NaN</td>\n",
              "      <td>between 100,000 and 1 million</td>\n",
              "      <td>NaN</td>\n",
              "      <td>NaN</td>\n",
              "      <td>NaN</td>\n",
              "      <td>NaN</td>\n",
              "      <td>NaN</td>\n",
              "      <td>NaN</td>\n",
              "      <td>NaN</td>\n",
              "      <td>NaN</td>\n",
              "      <td>NaN</td>\n",
              "      <td>NaN</td>\n",
              "      <td>NaN</td>\n",
              "      <td>NaN</td>\n",
              "      <td>NaN</td>\n",
              "      <td>NaN</td>\n",
              "      <td>NaN</td>\n",
              "      <td>NaN</td>\n",
              "      <td>35.0</td>\n",
              "      <td>United States of America</td>\n",
              "      <td>United States of America</td>\n",
              "      <td>office and administrative support</td>\n",
              "      <td>NaN</td>\n",
              "      <td>Employed for wages</td>\n",
              "      <td>NaN</td>\n",
              "      <td>NaN</td>\n",
              "      <td>0.0</td>\n",
              "      <td>male</td>\n",
              "      <td>0.0</td>\n",
              "      <td>1.0</td>\n",
              "      <td>1.0</td>\n",
              "      <td>...</td>\n",
              "      <td>NaN</td>\n",
              "      <td>NaN</td>\n",
              "      <td>NaN</td>\n",
              "      <td>1.0</td>\n",
              "      <td>NaN</td>\n",
              "      <td>NaN</td>\n",
              "      <td>NaN</td>\n",
              "      <td>NaN</td>\n",
              "      <td>NaN</td>\n",
              "      <td>NaN</td>\n",
              "      <td>NaN</td>\n",
              "      <td>NaN</td>\n",
              "      <td>NaN</td>\n",
              "      <td>NaN</td>\n",
              "      <td>NaN</td>\n",
              "      <td>1.0</td>\n",
              "      <td>NaN</td>\n",
              "      <td>NaN</td>\n",
              "      <td>NaN</td>\n",
              "      <td>1.0</td>\n",
              "      <td>NaN</td>\n",
              "      <td>NaN</td>\n",
              "      <td>NaN</td>\n",
              "      <td>NaN</td>\n",
              "      <td>NaN</td>\n",
              "      <td>NaN</td>\n",
              "      <td>NaN</td>\n",
              "      <td>NaN</td>\n",
              "      <td>NaN</td>\n",
              "      <td>NaN</td>\n",
              "      <td>NaN</td>\n",
              "      <td>NaN</td>\n",
              "      <td>NaN</td>\n",
              "      <td>NaN</td>\n",
              "      <td>NaN</td>\n",
              "      <td>NaN</td>\n",
              "      <td>NaN</td>\n",
              "      <td>some college credit, no degree</td>\n",
              "      <td>NaN</td>\n",
              "      <td>20000.0</td>\n",
              "    </tr>\n",
              "    <tr>\n",
              "      <th>1</th>\n",
              "      <td>22.0</td>\n",
              "      <td>0.0</td>\n",
              "      <td>NaN</td>\n",
              "      <td>NaN</td>\n",
              "      <td>NaN</td>\n",
              "      <td>NaN</td>\n",
              "      <td>NaN</td>\n",
              "      <td>NaN</td>\n",
              "      <td>NaN</td>\n",
              "      <td>NaN</td>\n",
              "      <td>between 100,000 and 1 million</td>\n",
              "      <td>NaN</td>\n",
              "      <td>NaN</td>\n",
              "      <td>NaN</td>\n",
              "      <td>NaN</td>\n",
              "      <td>NaN</td>\n",
              "      <td>NaN</td>\n",
              "      <td>NaN</td>\n",
              "      <td>NaN</td>\n",
              "      <td>NaN</td>\n",
              "      <td>NaN</td>\n",
              "      <td>NaN</td>\n",
              "      <td>NaN</td>\n",
              "      <td>NaN</td>\n",
              "      <td>NaN</td>\n",
              "      <td>NaN</td>\n",
              "      <td>NaN</td>\n",
              "      <td>90.0</td>\n",
              "      <td>United States of America</td>\n",
              "      <td>United States of America</td>\n",
              "      <td>food and beverage</td>\n",
              "      <td>NaN</td>\n",
              "      <td>Employed for wages</td>\n",
              "      <td>NaN</td>\n",
              "      <td>50000.0</td>\n",
              "      <td>NaN</td>\n",
              "      <td>male</td>\n",
              "      <td>NaN</td>\n",
              "      <td>0.0</td>\n",
              "      <td>0.0</td>\n",
              "      <td>...</td>\n",
              "      <td>NaN</td>\n",
              "      <td>NaN</td>\n",
              "      <td>NaN</td>\n",
              "      <td>NaN</td>\n",
              "      <td>Front-end happy hour</td>\n",
              "      <td>NaN</td>\n",
              "      <td>NaN</td>\n",
              "      <td>NaN</td>\n",
              "      <td>NaN</td>\n",
              "      <td>NaN</td>\n",
              "      <td>NaN</td>\n",
              "      <td>NaN</td>\n",
              "      <td>NaN</td>\n",
              "      <td>NaN</td>\n",
              "      <td>NaN</td>\n",
              "      <td>1.0</td>\n",
              "      <td>NaN</td>\n",
              "      <td>NaN</td>\n",
              "      <td>NaN</td>\n",
              "      <td>1.0</td>\n",
              "      <td>NaN</td>\n",
              "      <td>NaN</td>\n",
              "      <td>NaN</td>\n",
              "      <td>NaN</td>\n",
              "      <td>NaN</td>\n",
              "      <td>NaN</td>\n",
              "      <td>NaN</td>\n",
              "      <td>NaN</td>\n",
              "      <td>NaN</td>\n",
              "      <td>NaN</td>\n",
              "      <td>NaN</td>\n",
              "      <td>NaN</td>\n",
              "      <td>NaN</td>\n",
              "      <td>NaN</td>\n",
              "      <td>1.0</td>\n",
              "      <td>NaN</td>\n",
              "      <td>NaN</td>\n",
              "      <td>some college credit, no degree</td>\n",
              "      <td>NaN</td>\n",
              "      <td>NaN</td>\n",
              "    </tr>\n",
              "    <tr>\n",
              "      <th>2</th>\n",
              "      <td>19.0</td>\n",
              "      <td>0.0</td>\n",
              "      <td>NaN</td>\n",
              "      <td>NaN</td>\n",
              "      <td>NaN</td>\n",
              "      <td>NaN</td>\n",
              "      <td>NaN</td>\n",
              "      <td>NaN</td>\n",
              "      <td>NaN</td>\n",
              "      <td>NaN</td>\n",
              "      <td>more than 1 million</td>\n",
              "      <td>NaN</td>\n",
              "      <td>1.0</td>\n",
              "      <td>NaN</td>\n",
              "      <td>NaN</td>\n",
              "      <td>NaN</td>\n",
              "      <td>NaN</td>\n",
              "      <td>NaN</td>\n",
              "      <td>NaN</td>\n",
              "      <td>NaN</td>\n",
              "      <td>NaN</td>\n",
              "      <td>NaN</td>\n",
              "      <td>NaN</td>\n",
              "      <td>NaN</td>\n",
              "      <td>NaN</td>\n",
              "      <td>NaN</td>\n",
              "      <td>NaN</td>\n",
              "      <td>45.0</td>\n",
              "      <td>United States of America</td>\n",
              "      <td>United States of America</td>\n",
              "      <td>finance</td>\n",
              "      <td>NaN</td>\n",
              "      <td>Employed for wages</td>\n",
              "      <td>NaN</td>\n",
              "      <td>NaN</td>\n",
              "      <td>NaN</td>\n",
              "      <td>male</td>\n",
              "      <td>NaN</td>\n",
              "      <td>0.0</td>\n",
              "      <td>0.0</td>\n",
              "      <td>...</td>\n",
              "      <td>NaN</td>\n",
              "      <td>NaN</td>\n",
              "      <td>NaN</td>\n",
              "      <td>1.0</td>\n",
              "      <td>NaN</td>\n",
              "      <td>NaN</td>\n",
              "      <td>NaN</td>\n",
              "      <td>NaN</td>\n",
              "      <td>NaN</td>\n",
              "      <td>NaN</td>\n",
              "      <td>NaN</td>\n",
              "      <td>NaN</td>\n",
              "      <td>NaN</td>\n",
              "      <td>NaN</td>\n",
              "      <td>1.0</td>\n",
              "      <td>NaN</td>\n",
              "      <td>NaN</td>\n",
              "      <td>NaN</td>\n",
              "      <td>NaN</td>\n",
              "      <td>1.0</td>\n",
              "      <td>NaN</td>\n",
              "      <td>NaN</td>\n",
              "      <td>1.0</td>\n",
              "      <td>NaN</td>\n",
              "      <td>NaN</td>\n",
              "      <td>1.0</td>\n",
              "      <td>NaN</td>\n",
              "      <td>NaN</td>\n",
              "      <td>NaN</td>\n",
              "      <td>NaN</td>\n",
              "      <td>NaN</td>\n",
              "      <td>NaN</td>\n",
              "      <td>NaN</td>\n",
              "      <td>NaN</td>\n",
              "      <td>NaN</td>\n",
              "      <td>NaN</td>\n",
              "      <td>NaN</td>\n",
              "      <td>high school diploma or equivalent (GED)</td>\n",
              "      <td>NaN</td>\n",
              "      <td>NaN</td>\n",
              "    </tr>\n",
              "    <tr>\n",
              "      <th>3</th>\n",
              "      <td>26.0</td>\n",
              "      <td>0.0</td>\n",
              "      <td>NaN</td>\n",
              "      <td>NaN</td>\n",
              "      <td>NaN</td>\n",
              "      <td>NaN</td>\n",
              "      <td>NaN</td>\n",
              "      <td>NaN</td>\n",
              "      <td>NaN</td>\n",
              "      <td>NaN</td>\n",
              "      <td>more than 1 million</td>\n",
              "      <td>NaN</td>\n",
              "      <td>NaN</td>\n",
              "      <td>NaN</td>\n",
              "      <td>NaN</td>\n",
              "      <td>NaN</td>\n",
              "      <td>NaN</td>\n",
              "      <td>NaN</td>\n",
              "      <td>NaN</td>\n",
              "      <td>NaN</td>\n",
              "      <td>NaN</td>\n",
              "      <td>NaN</td>\n",
              "      <td>NaN</td>\n",
              "      <td>NaN</td>\n",
              "      <td>NaN</td>\n",
              "      <td>1.0</td>\n",
              "      <td>NaN</td>\n",
              "      <td>45.0</td>\n",
              "      <td>United States of America</td>\n",
              "      <td>United States of America</td>\n",
              "      <td>arts, entertainment, sports, or media</td>\n",
              "      <td>NaN</td>\n",
              "      <td>Employed for wages</td>\n",
              "      <td>NaN</td>\n",
              "      <td>65000.0</td>\n",
              "      <td>NaN</td>\n",
              "      <td>female</td>\n",
              "      <td>NaN</td>\n",
              "      <td>1.0</td>\n",
              "      <td>0.0</td>\n",
              "      <td>...</td>\n",
              "      <td>NaN</td>\n",
              "      <td>NaN</td>\n",
              "      <td>NaN</td>\n",
              "      <td>1.0</td>\n",
              "      <td>NaN</td>\n",
              "      <td>NaN</td>\n",
              "      <td>NaN</td>\n",
              "      <td>NaN</td>\n",
              "      <td>NaN</td>\n",
              "      <td>NaN</td>\n",
              "      <td>NaN</td>\n",
              "      <td>NaN</td>\n",
              "      <td>NaN</td>\n",
              "      <td>NaN</td>\n",
              "      <td>1.0</td>\n",
              "      <td>NaN</td>\n",
              "      <td>NaN</td>\n",
              "      <td>NaN</td>\n",
              "      <td>NaN</td>\n",
              "      <td>1.0</td>\n",
              "      <td>NaN</td>\n",
              "      <td>NaN</td>\n",
              "      <td>1.0</td>\n",
              "      <td>NaN</td>\n",
              "      <td>NaN</td>\n",
              "      <td>NaN</td>\n",
              "      <td>NaN</td>\n",
              "      <td>NaN</td>\n",
              "      <td>NaN</td>\n",
              "      <td>NaN</td>\n",
              "      <td>NaN</td>\n",
              "      <td>NaN</td>\n",
              "      <td>NaN</td>\n",
              "      <td>NaN</td>\n",
              "      <td>NaN</td>\n",
              "      <td>NaN</td>\n",
              "      <td>NaN</td>\n",
              "      <td>bachelor's degree</td>\n",
              "      <td>Cinematography And Film</td>\n",
              "      <td>7000.0</td>\n",
              "    </tr>\n",
              "    <tr>\n",
              "      <th>4</th>\n",
              "      <td>20.0</td>\n",
              "      <td>0.0</td>\n",
              "      <td>NaN</td>\n",
              "      <td>NaN</td>\n",
              "      <td>NaN</td>\n",
              "      <td>NaN</td>\n",
              "      <td>NaN</td>\n",
              "      <td>NaN</td>\n",
              "      <td>NaN</td>\n",
              "      <td>NaN</td>\n",
              "      <td>between 100,000 and 1 million</td>\n",
              "      <td>NaN</td>\n",
              "      <td>NaN</td>\n",
              "      <td>NaN</td>\n",
              "      <td>NaN</td>\n",
              "      <td>NaN</td>\n",
              "      <td>NaN</td>\n",
              "      <td>NaN</td>\n",
              "      <td>NaN</td>\n",
              "      <td>NaN</td>\n",
              "      <td>NaN</td>\n",
              "      <td>NaN</td>\n",
              "      <td>NaN</td>\n",
              "      <td>NaN</td>\n",
              "      <td>NaN</td>\n",
              "      <td>NaN</td>\n",
              "      <td>NaN</td>\n",
              "      <td>10.0</td>\n",
              "      <td>United States of America</td>\n",
              "      <td>United States of America</td>\n",
              "      <td>education</td>\n",
              "      <td>NaN</td>\n",
              "      <td>Employed for wages</td>\n",
              "      <td>NaN</td>\n",
              "      <td>45000.0</td>\n",
              "      <td>NaN</td>\n",
              "      <td>female</td>\n",
              "      <td>NaN</td>\n",
              "      <td>1.0</td>\n",
              "      <td>0.0</td>\n",
              "      <td>...</td>\n",
              "      <td>NaN</td>\n",
              "      <td>NaN</td>\n",
              "      <td>NaN</td>\n",
              "      <td>1.0</td>\n",
              "      <td>NaN</td>\n",
              "      <td>NaN</td>\n",
              "      <td>NaN</td>\n",
              "      <td>NaN</td>\n",
              "      <td>NaN</td>\n",
              "      <td>NaN</td>\n",
              "      <td>NaN</td>\n",
              "      <td>NaN</td>\n",
              "      <td>NaN</td>\n",
              "      <td>NaN</td>\n",
              "      <td>1.0</td>\n",
              "      <td>NaN</td>\n",
              "      <td>NaN</td>\n",
              "      <td>NaN</td>\n",
              "      <td>NaN</td>\n",
              "      <td>1.0</td>\n",
              "      <td>NaN</td>\n",
              "      <td>NaN</td>\n",
              "      <td>NaN</td>\n",
              "      <td>NaN</td>\n",
              "      <td>NaN</td>\n",
              "      <td>NaN</td>\n",
              "      <td>NaN</td>\n",
              "      <td>NaN</td>\n",
              "      <td>NaN</td>\n",
              "      <td>NaN</td>\n",
              "      <td>NaN</td>\n",
              "      <td>NaN</td>\n",
              "      <td>NaN</td>\n",
              "      <td>NaN</td>\n",
              "      <td>NaN</td>\n",
              "      <td>NaN</td>\n",
              "      <td>NaN</td>\n",
              "      <td>some college credit, no degree</td>\n",
              "      <td>NaN</td>\n",
              "      <td>NaN</td>\n",
              "    </tr>\n",
              "  </tbody>\n",
              "</table>\n",
              "<p>5 rows × 113 columns</p>\n",
              "</div>"
            ],
            "text/plain": [
              "    Age  AttendedBootcamp  ...              SchoolMajor  StudentDebtOwe\n",
              "0  28.0               0.0  ...                      NaN         20000.0\n",
              "1  22.0               0.0  ...                      NaN             NaN\n",
              "2  19.0               0.0  ...                      NaN             NaN\n",
              "3  26.0               0.0  ...  Cinematography And Film          7000.0\n",
              "4  20.0               0.0  ...                      NaN             NaN\n",
              "\n",
              "[5 rows x 113 columns]"
            ]
          },
          "metadata": {
            "tags": []
          },
          "execution_count": 3
        }
      ]
    },
    {
      "cell_type": "code",
      "metadata": {
        "id": "hb3DtWiX2667",
        "outputId": "07b38e56-66e1-4b79-f95a-c70c97409ca3",
        "colab": {
          "base_uri": "https://localhost:8080/",
          "height": 337
        }
      },
      "source": [
        "df.describe()"
      ],
      "execution_count": 4,
      "outputs": [
        {
          "output_type": "execute_result",
          "data": {
            "text/html": [
              "<div>\n",
              "<style scoped>\n",
              "    .dataframe tbody tr th:only-of-type {\n",
              "        vertical-align: middle;\n",
              "    }\n",
              "\n",
              "    .dataframe tbody tr th {\n",
              "        vertical-align: top;\n",
              "    }\n",
              "\n",
              "    .dataframe thead th {\n",
              "        text-align: right;\n",
              "    }\n",
              "</style>\n",
              "<table border=\"1\" class=\"dataframe\">\n",
              "  <thead>\n",
              "    <tr style=\"text-align: right;\">\n",
              "      <th></th>\n",
              "      <th>Age</th>\n",
              "      <th>AttendedBootcamp</th>\n",
              "      <th>BootcampFinish</th>\n",
              "      <th>BootcampFullJobAfter</th>\n",
              "      <th>BootcampLoanYesNo</th>\n",
              "      <th>BootcampMonthsAgo</th>\n",
              "      <th>BootcampPostSalary</th>\n",
              "      <th>BootcampRecommend</th>\n",
              "      <th>ChildrenNumber</th>\n",
              "      <th>CodeEventBootcamp</th>\n",
              "      <th>CodeEventCoffee</th>\n",
              "      <th>CodeEventConferences</th>\n",
              "      <th>CodeEventDjangoGirls</th>\n",
              "      <th>CodeEventGameJam</th>\n",
              "      <th>CodeEventGirlDev</th>\n",
              "      <th>CodeEventHackathons</th>\n",
              "      <th>CodeEventMeetup</th>\n",
              "      <th>CodeEventNodeSchool</th>\n",
              "      <th>CodeEventNone</th>\n",
              "      <th>CodeEventRailsBridge</th>\n",
              "      <th>CodeEventRailsGirls</th>\n",
              "      <th>CodeEventStartUpWknd</th>\n",
              "      <th>CodeEventWomenCode</th>\n",
              "      <th>CodeEventWorkshop</th>\n",
              "      <th>CommuteTime</th>\n",
              "      <th>ExpectedEarning</th>\n",
              "      <th>FinanciallySupporting</th>\n",
              "      <th>HasChildren</th>\n",
              "      <th>HasDebt</th>\n",
              "      <th>HasFinancialDependents</th>\n",
              "      <th>HasHighSpdInternet</th>\n",
              "      <th>HasHomeMortgage</th>\n",
              "      <th>HasServedInMilitary</th>\n",
              "      <th>HasStudentDebt</th>\n",
              "      <th>HomeMortgageOwe</th>\n",
              "      <th>HoursLearning</th>\n",
              "      <th>Income</th>\n",
              "      <th>IsEthnicMinority</th>\n",
              "      <th>IsReceiveDiabilitiesBenefits</th>\n",
              "      <th>IsSoftwareDev</th>\n",
              "      <th>...</th>\n",
              "      <th>PodcastCodeNewbie</th>\n",
              "      <th>PodcastCodingBlocks</th>\n",
              "      <th>PodcastDeveloperTea</th>\n",
              "      <th>PodcastDotNetRocks</th>\n",
              "      <th>PodcastHanselminutes</th>\n",
              "      <th>PodcastJSJabber</th>\n",
              "      <th>PodcastJsAir</th>\n",
              "      <th>PodcastNone</th>\n",
              "      <th>PodcastProgrammingThrowDown</th>\n",
              "      <th>PodcastRubyRogues</th>\n",
              "      <th>PodcastSEDaily</th>\n",
              "      <th>PodcastShopTalk</th>\n",
              "      <th>PodcastTalkPython</th>\n",
              "      <th>PodcastWebAhead</th>\n",
              "      <th>ResourceBlogs</th>\n",
              "      <th>ResourceBooks</th>\n",
              "      <th>ResourceCodeWars</th>\n",
              "      <th>ResourceCodecademy</th>\n",
              "      <th>ResourceCoursera</th>\n",
              "      <th>ResourceDevTips</th>\n",
              "      <th>ResourceEdX</th>\n",
              "      <th>ResourceEggHead</th>\n",
              "      <th>ResourceFCC</th>\n",
              "      <th>ResourceGoogle</th>\n",
              "      <th>ResourceHackerRank</th>\n",
              "      <th>ResourceKhanAcademy</th>\n",
              "      <th>ResourceLynda</th>\n",
              "      <th>ResourceMDN</th>\n",
              "      <th>ResourceOdinProj</th>\n",
              "      <th>ResourcePluralSight</th>\n",
              "      <th>ResourceReddit</th>\n",
              "      <th>ResourceSkillCrush</th>\n",
              "      <th>ResourceSoloLearn</th>\n",
              "      <th>ResourceStackOverflow</th>\n",
              "      <th>ResourceTreehouse</th>\n",
              "      <th>ResourceUdacity</th>\n",
              "      <th>ResourceUdemy</th>\n",
              "      <th>ResourceW3Schools</th>\n",
              "      <th>ResourceYouTube</th>\n",
              "      <th>StudentDebtOwe</th>\n",
              "    </tr>\n",
              "  </thead>\n",
              "  <tbody>\n",
              "    <tr>\n",
              "      <th>count</th>\n",
              "      <td>13613.000000</td>\n",
              "      <td>15380.000000</td>\n",
              "      <td>933.000000</td>\n",
              "      <td>635.000000</td>\n",
              "      <td>934.000000</td>\n",
              "      <td>631.000000</td>\n",
              "      <td>330.000000</td>\n",
              "      <td>937.000000</td>\n",
              "      <td>2554.000000</td>\n",
              "      <td>42.0</td>\n",
              "      <td>2077.0</td>\n",
              "      <td>2898.0</td>\n",
              "      <td>18.0</td>\n",
              "      <td>22.0</td>\n",
              "      <td>558.0</td>\n",
              "      <td>2422.0</td>\n",
              "      <td>313.0</td>\n",
              "      <td>480.0</td>\n",
              "      <td>8900.0</td>\n",
              "      <td>255.0</td>\n",
              "      <td>14.0</td>\n",
              "      <td>743.0</td>\n",
              "      <td>711.0</td>\n",
              "      <td>23.0</td>\n",
              "      <td>8339.000000</td>\n",
              "      <td>6077.000000</td>\n",
              "      <td>3996.000000</td>\n",
              "      <td>4012.000000</td>\n",
              "      <td>13610.000000</td>\n",
              "      <td>13640.000000</td>\n",
              "      <td>13625.000000</td>\n",
              "      <td>6371.000000</td>\n",
              "      <td>13550.000000</td>\n",
              "      <td>6371.000000</td>\n",
              "      <td>1.501000e+03</td>\n",
              "      <td>14942.000000</td>\n",
              "      <td>7329.000000</td>\n",
              "      <td>13645.000000</td>\n",
              "      <td>13530.000000</td>\n",
              "      <td>15537.000000</td>\n",
              "      <td>...</td>\n",
              "      <td>1878.0</td>\n",
              "      <td>16.0</td>\n",
              "      <td>80.0</td>\n",
              "      <td>18.0</td>\n",
              "      <td>19.0</td>\n",
              "      <td>1356.0</td>\n",
              "      <td>29.0</td>\n",
              "      <td>11040.0</td>\n",
              "      <td>34.0</td>\n",
              "      <td>79.0</td>\n",
              "      <td>775.0</td>\n",
              "      <td>83.0</td>\n",
              "      <td>41.0</td>\n",
              "      <td>15.0</td>\n",
              "      <td>30.0</td>\n",
              "      <td>144.0</td>\n",
              "      <td>1563.0</td>\n",
              "      <td>9586.0</td>\n",
              "      <td>4844.0</td>\n",
              "      <td>968.0</td>\n",
              "      <td>3472.0</td>\n",
              "      <td>29.0</td>\n",
              "      <td>10937.0</td>\n",
              "      <td>55.0</td>\n",
              "      <td>30.0</td>\n",
              "      <td>3746.0</td>\n",
              "      <td>150.0</td>\n",
              "      <td>26.0</td>\n",
              "      <td>1687.0</td>\n",
              "      <td>3565.0</td>\n",
              "      <td>29.0</td>\n",
              "      <td>36.0</td>\n",
              "      <td>30.0</td>\n",
              "      <td>191.0</td>\n",
              "      <td>422.0</td>\n",
              "      <td>3306.0</td>\n",
              "      <td>4130.0</td>\n",
              "      <td>121.0</td>\n",
              "      <td>121.0</td>\n",
              "      <td>3514.000000</td>\n",
              "    </tr>\n",
              "    <tr>\n",
              "      <th>mean</th>\n",
              "      <td>29.175714</td>\n",
              "      <td>0.061964</td>\n",
              "      <td>0.689175</td>\n",
              "      <td>0.584252</td>\n",
              "      <td>0.332976</td>\n",
              "      <td>9.055468</td>\n",
              "      <td>63740.506061</td>\n",
              "      <td>0.785486</td>\n",
              "      <td>1.896241</td>\n",
              "      <td>1.0</td>\n",
              "      <td>1.0</td>\n",
              "      <td>1.0</td>\n",
              "      <td>1.0</td>\n",
              "      <td>1.0</td>\n",
              "      <td>1.0</td>\n",
              "      <td>1.0</td>\n",
              "      <td>1.0</td>\n",
              "      <td>1.0</td>\n",
              "      <td>1.0</td>\n",
              "      <td>1.0</td>\n",
              "      <td>1.0</td>\n",
              "      <td>1.0</td>\n",
              "      <td>1.0</td>\n",
              "      <td>1.0</td>\n",
              "      <td>55.304473</td>\n",
              "      <td>53717.586967</td>\n",
              "      <td>0.196697</td>\n",
              "      <td>0.642822</td>\n",
              "      <td>0.470683</td>\n",
              "      <td>0.295528</td>\n",
              "      <td>0.879339</td>\n",
              "      <td>0.280176</td>\n",
              "      <td>0.076236</td>\n",
              "      <td>0.589546</td>\n",
              "      <td>1.897040e+05</td>\n",
              "      <td>15.323317</td>\n",
              "      <td>44930.010506</td>\n",
              "      <td>0.238402</td>\n",
              "      <td>0.022912</td>\n",
              "      <td>0.276952</td>\n",
              "      <td>...</td>\n",
              "      <td>1.0</td>\n",
              "      <td>1.0</td>\n",
              "      <td>1.0</td>\n",
              "      <td>1.0</td>\n",
              "      <td>1.0</td>\n",
              "      <td>1.0</td>\n",
              "      <td>1.0</td>\n",
              "      <td>1.0</td>\n",
              "      <td>1.0</td>\n",
              "      <td>1.0</td>\n",
              "      <td>1.0</td>\n",
              "      <td>1.0</td>\n",
              "      <td>1.0</td>\n",
              "      <td>1.0</td>\n",
              "      <td>1.0</td>\n",
              "      <td>1.0</td>\n",
              "      <td>1.0</td>\n",
              "      <td>1.0</td>\n",
              "      <td>1.0</td>\n",
              "      <td>1.0</td>\n",
              "      <td>1.0</td>\n",
              "      <td>1.0</td>\n",
              "      <td>1.0</td>\n",
              "      <td>1.0</td>\n",
              "      <td>1.0</td>\n",
              "      <td>1.0</td>\n",
              "      <td>1.0</td>\n",
              "      <td>1.0</td>\n",
              "      <td>1.0</td>\n",
              "      <td>1.0</td>\n",
              "      <td>1.0</td>\n",
              "      <td>1.0</td>\n",
              "      <td>1.0</td>\n",
              "      <td>1.0</td>\n",
              "      <td>1.0</td>\n",
              "      <td>1.0</td>\n",
              "      <td>1.0</td>\n",
              "      <td>1.0</td>\n",
              "      <td>1.0</td>\n",
              "      <td>34556.143711</td>\n",
              "    </tr>\n",
              "    <tr>\n",
              "      <th>std</th>\n",
              "      <td>9.017580</td>\n",
              "      <td>0.241097</td>\n",
              "      <td>0.463080</td>\n",
              "      <td>0.493239</td>\n",
              "      <td>0.471531</td>\n",
              "      <td>12.968035</td>\n",
              "      <td>26347.200265</td>\n",
              "      <td>0.410704</td>\n",
              "      <td>1.115975</td>\n",
              "      <td>0.0</td>\n",
              "      <td>0.0</td>\n",
              "      <td>0.0</td>\n",
              "      <td>0.0</td>\n",
              "      <td>0.0</td>\n",
              "      <td>0.0</td>\n",
              "      <td>0.0</td>\n",
              "      <td>0.0</td>\n",
              "      <td>0.0</td>\n",
              "      <td>0.0</td>\n",
              "      <td>0.0</td>\n",
              "      <td>0.0</td>\n",
              "      <td>0.0</td>\n",
              "      <td>0.0</td>\n",
              "      <td>0.0</td>\n",
              "      <td>69.442833</td>\n",
              "      <td>30078.511957</td>\n",
              "      <td>0.397551</td>\n",
              "      <td>0.479228</td>\n",
              "      <td>0.499158</td>\n",
              "      <td>0.456296</td>\n",
              "      <td>0.325744</td>\n",
              "      <td>0.449120</td>\n",
              "      <td>0.265385</td>\n",
              "      <td>0.491955</td>\n",
              "      <td>4.547212e+05</td>\n",
              "      <td>14.274867</td>\n",
              "      <td>35582.783216</td>\n",
              "      <td>0.426122</td>\n",
              "      <td>0.149629</td>\n",
              "      <td>0.447507</td>\n",
              "      <td>...</td>\n",
              "      <td>0.0</td>\n",
              "      <td>0.0</td>\n",
              "      <td>0.0</td>\n",
              "      <td>0.0</td>\n",
              "      <td>0.0</td>\n",
              "      <td>0.0</td>\n",
              "      <td>0.0</td>\n",
              "      <td>0.0</td>\n",
              "      <td>0.0</td>\n",
              "      <td>0.0</td>\n",
              "      <td>0.0</td>\n",
              "      <td>0.0</td>\n",
              "      <td>0.0</td>\n",
              "      <td>0.0</td>\n",
              "      <td>0.0</td>\n",
              "      <td>0.0</td>\n",
              "      <td>0.0</td>\n",
              "      <td>0.0</td>\n",
              "      <td>0.0</td>\n",
              "      <td>0.0</td>\n",
              "      <td>0.0</td>\n",
              "      <td>0.0</td>\n",
              "      <td>0.0</td>\n",
              "      <td>0.0</td>\n",
              "      <td>0.0</td>\n",
              "      <td>0.0</td>\n",
              "      <td>0.0</td>\n",
              "      <td>0.0</td>\n",
              "      <td>0.0</td>\n",
              "      <td>0.0</td>\n",
              "      <td>0.0</td>\n",
              "      <td>0.0</td>\n",
              "      <td>0.0</td>\n",
              "      <td>0.0</td>\n",
              "      <td>0.0</td>\n",
              "      <td>0.0</td>\n",
              "      <td>0.0</td>\n",
              "      <td>0.0</td>\n",
              "      <td>0.0</td>\n",
              "      <td>54423.139781</td>\n",
              "    </tr>\n",
              "    <tr>\n",
              "      <th>min</th>\n",
              "      <td>10.000000</td>\n",
              "      <td>0.000000</td>\n",
              "      <td>0.000000</td>\n",
              "      <td>0.000000</td>\n",
              "      <td>0.000000</td>\n",
              "      <td>0.000000</td>\n",
              "      <td>6000.000000</td>\n",
              "      <td>0.000000</td>\n",
              "      <td>0.000000</td>\n",
              "      <td>1.0</td>\n",
              "      <td>1.0</td>\n",
              "      <td>1.0</td>\n",
              "      <td>1.0</td>\n",
              "      <td>1.0</td>\n",
              "      <td>1.0</td>\n",
              "      <td>1.0</td>\n",
              "      <td>1.0</td>\n",
              "      <td>1.0</td>\n",
              "      <td>1.0</td>\n",
              "      <td>1.0</td>\n",
              "      <td>1.0</td>\n",
              "      <td>1.0</td>\n",
              "      <td>1.0</td>\n",
              "      <td>1.0</td>\n",
              "      <td>0.000000</td>\n",
              "      <td>6000.000000</td>\n",
              "      <td>0.000000</td>\n",
              "      <td>0.000000</td>\n",
              "      <td>0.000000</td>\n",
              "      <td>0.000000</td>\n",
              "      <td>0.000000</td>\n",
              "      <td>0.000000</td>\n",
              "      <td>0.000000</td>\n",
              "      <td>0.000000</td>\n",
              "      <td>0.000000e+00</td>\n",
              "      <td>0.000000</td>\n",
              "      <td>6000.000000</td>\n",
              "      <td>0.000000</td>\n",
              "      <td>0.000000</td>\n",
              "      <td>0.000000</td>\n",
              "      <td>...</td>\n",
              "      <td>1.0</td>\n",
              "      <td>1.0</td>\n",
              "      <td>1.0</td>\n",
              "      <td>1.0</td>\n",
              "      <td>1.0</td>\n",
              "      <td>1.0</td>\n",
              "      <td>1.0</td>\n",
              "      <td>1.0</td>\n",
              "      <td>1.0</td>\n",
              "      <td>1.0</td>\n",
              "      <td>1.0</td>\n",
              "      <td>1.0</td>\n",
              "      <td>1.0</td>\n",
              "      <td>1.0</td>\n",
              "      <td>1.0</td>\n",
              "      <td>1.0</td>\n",
              "      <td>1.0</td>\n",
              "      <td>1.0</td>\n",
              "      <td>1.0</td>\n",
              "      <td>1.0</td>\n",
              "      <td>1.0</td>\n",
              "      <td>1.0</td>\n",
              "      <td>1.0</td>\n",
              "      <td>1.0</td>\n",
              "      <td>1.0</td>\n",
              "      <td>1.0</td>\n",
              "      <td>1.0</td>\n",
              "      <td>1.0</td>\n",
              "      <td>1.0</td>\n",
              "      <td>1.0</td>\n",
              "      <td>1.0</td>\n",
              "      <td>1.0</td>\n",
              "      <td>1.0</td>\n",
              "      <td>1.0</td>\n",
              "      <td>1.0</td>\n",
              "      <td>1.0</td>\n",
              "      <td>1.0</td>\n",
              "      <td>1.0</td>\n",
              "      <td>1.0</td>\n",
              "      <td>0.000000</td>\n",
              "    </tr>\n",
              "    <tr>\n",
              "      <th>25%</th>\n",
              "      <td>23.000000</td>\n",
              "      <td>0.000000</td>\n",
              "      <td>0.000000</td>\n",
              "      <td>0.000000</td>\n",
              "      <td>0.000000</td>\n",
              "      <td>3.000000</td>\n",
              "      <td>50000.000000</td>\n",
              "      <td>1.000000</td>\n",
              "      <td>1.000000</td>\n",
              "      <td>1.0</td>\n",
              "      <td>1.0</td>\n",
              "      <td>1.0</td>\n",
              "      <td>1.0</td>\n",
              "      <td>1.0</td>\n",
              "      <td>1.0</td>\n",
              "      <td>1.0</td>\n",
              "      <td>1.0</td>\n",
              "      <td>1.0</td>\n",
              "      <td>1.0</td>\n",
              "      <td>1.0</td>\n",
              "      <td>1.0</td>\n",
              "      <td>1.0</td>\n",
              "      <td>1.0</td>\n",
              "      <td>1.0</td>\n",
              "      <td>15.000000</td>\n",
              "      <td>35000.000000</td>\n",
              "      <td>0.000000</td>\n",
              "      <td>0.000000</td>\n",
              "      <td>0.000000</td>\n",
              "      <td>0.000000</td>\n",
              "      <td>1.000000</td>\n",
              "      <td>0.000000</td>\n",
              "      <td>0.000000</td>\n",
              "      <td>0.000000</td>\n",
              "      <td>7.200000e+04</td>\n",
              "      <td>5.000000</td>\n",
              "      <td>20000.000000</td>\n",
              "      <td>0.000000</td>\n",
              "      <td>0.000000</td>\n",
              "      <td>0.000000</td>\n",
              "      <td>...</td>\n",
              "      <td>1.0</td>\n",
              "      <td>1.0</td>\n",
              "      <td>1.0</td>\n",
              "      <td>1.0</td>\n",
              "      <td>1.0</td>\n",
              "      <td>1.0</td>\n",
              "      <td>1.0</td>\n",
              "      <td>1.0</td>\n",
              "      <td>1.0</td>\n",
              "      <td>1.0</td>\n",
              "      <td>1.0</td>\n",
              "      <td>1.0</td>\n",
              "      <td>1.0</td>\n",
              "      <td>1.0</td>\n",
              "      <td>1.0</td>\n",
              "      <td>1.0</td>\n",
              "      <td>1.0</td>\n",
              "      <td>1.0</td>\n",
              "      <td>1.0</td>\n",
              "      <td>1.0</td>\n",
              "      <td>1.0</td>\n",
              "      <td>1.0</td>\n",
              "      <td>1.0</td>\n",
              "      <td>1.0</td>\n",
              "      <td>1.0</td>\n",
              "      <td>1.0</td>\n",
              "      <td>1.0</td>\n",
              "      <td>1.0</td>\n",
              "      <td>1.0</td>\n",
              "      <td>1.0</td>\n",
              "      <td>1.0</td>\n",
              "      <td>1.0</td>\n",
              "      <td>1.0</td>\n",
              "      <td>1.0</td>\n",
              "      <td>1.0</td>\n",
              "      <td>1.0</td>\n",
              "      <td>1.0</td>\n",
              "      <td>1.0</td>\n",
              "      <td>1.0</td>\n",
              "      <td>10000.000000</td>\n",
              "    </tr>\n",
              "    <tr>\n",
              "      <th>50%</th>\n",
              "      <td>27.000000</td>\n",
              "      <td>0.000000</td>\n",
              "      <td>1.000000</td>\n",
              "      <td>1.000000</td>\n",
              "      <td>0.000000</td>\n",
              "      <td>6.000000</td>\n",
              "      <td>60000.000000</td>\n",
              "      <td>1.000000</td>\n",
              "      <td>2.000000</td>\n",
              "      <td>1.0</td>\n",
              "      <td>1.0</td>\n",
              "      <td>1.0</td>\n",
              "      <td>1.0</td>\n",
              "      <td>1.0</td>\n",
              "      <td>1.0</td>\n",
              "      <td>1.0</td>\n",
              "      <td>1.0</td>\n",
              "      <td>1.0</td>\n",
              "      <td>1.0</td>\n",
              "      <td>1.0</td>\n",
              "      <td>1.0</td>\n",
              "      <td>1.0</td>\n",
              "      <td>1.0</td>\n",
              "      <td>1.0</td>\n",
              "      <td>40.000000</td>\n",
              "      <td>50000.000000</td>\n",
              "      <td>0.000000</td>\n",
              "      <td>1.000000</td>\n",
              "      <td>0.000000</td>\n",
              "      <td>0.000000</td>\n",
              "      <td>1.000000</td>\n",
              "      <td>0.000000</td>\n",
              "      <td>0.000000</td>\n",
              "      <td>1.000000</td>\n",
              "      <td>1.300000e+05</td>\n",
              "      <td>10.000000</td>\n",
              "      <td>37000.000000</td>\n",
              "      <td>0.000000</td>\n",
              "      <td>0.000000</td>\n",
              "      <td>0.000000</td>\n",
              "      <td>...</td>\n",
              "      <td>1.0</td>\n",
              "      <td>1.0</td>\n",
              "      <td>1.0</td>\n",
              "      <td>1.0</td>\n",
              "      <td>1.0</td>\n",
              "      <td>1.0</td>\n",
              "      <td>1.0</td>\n",
              "      <td>1.0</td>\n",
              "      <td>1.0</td>\n",
              "      <td>1.0</td>\n",
              "      <td>1.0</td>\n",
              "      <td>1.0</td>\n",
              "      <td>1.0</td>\n",
              "      <td>1.0</td>\n",
              "      <td>1.0</td>\n",
              "      <td>1.0</td>\n",
              "      <td>1.0</td>\n",
              "      <td>1.0</td>\n",
              "      <td>1.0</td>\n",
              "      <td>1.0</td>\n",
              "      <td>1.0</td>\n",
              "      <td>1.0</td>\n",
              "      <td>1.0</td>\n",
              "      <td>1.0</td>\n",
              "      <td>1.0</td>\n",
              "      <td>1.0</td>\n",
              "      <td>1.0</td>\n",
              "      <td>1.0</td>\n",
              "      <td>1.0</td>\n",
              "      <td>1.0</td>\n",
              "      <td>1.0</td>\n",
              "      <td>1.0</td>\n",
              "      <td>1.0</td>\n",
              "      <td>1.0</td>\n",
              "      <td>1.0</td>\n",
              "      <td>1.0</td>\n",
              "      <td>1.0</td>\n",
              "      <td>1.0</td>\n",
              "      <td>1.0</td>\n",
              "      <td>20000.000000</td>\n",
              "    </tr>\n",
              "    <tr>\n",
              "      <th>75%</th>\n",
              "      <td>33.000000</td>\n",
              "      <td>0.000000</td>\n",
              "      <td>1.000000</td>\n",
              "      <td>1.000000</td>\n",
              "      <td>1.000000</td>\n",
              "      <td>12.000000</td>\n",
              "      <td>77000.000000</td>\n",
              "      <td>1.000000</td>\n",
              "      <td>2.000000</td>\n",
              "      <td>1.0</td>\n",
              "      <td>1.0</td>\n",
              "      <td>1.0</td>\n",
              "      <td>1.0</td>\n",
              "      <td>1.0</td>\n",
              "      <td>1.0</td>\n",
              "      <td>1.0</td>\n",
              "      <td>1.0</td>\n",
              "      <td>1.0</td>\n",
              "      <td>1.0</td>\n",
              "      <td>1.0</td>\n",
              "      <td>1.0</td>\n",
              "      <td>1.0</td>\n",
              "      <td>1.0</td>\n",
              "      <td>1.0</td>\n",
              "      <td>70.000000</td>\n",
              "      <td>70000.000000</td>\n",
              "      <td>0.000000</td>\n",
              "      <td>1.000000</td>\n",
              "      <td>1.000000</td>\n",
              "      <td>1.000000</td>\n",
              "      <td>1.000000</td>\n",
              "      <td>1.000000</td>\n",
              "      <td>0.000000</td>\n",
              "      <td>1.000000</td>\n",
              "      <td>2.200000e+05</td>\n",
              "      <td>20.000000</td>\n",
              "      <td>60000.000000</td>\n",
              "      <td>0.000000</td>\n",
              "      <td>0.000000</td>\n",
              "      <td>1.000000</td>\n",
              "      <td>...</td>\n",
              "      <td>1.0</td>\n",
              "      <td>1.0</td>\n",
              "      <td>1.0</td>\n",
              "      <td>1.0</td>\n",
              "      <td>1.0</td>\n",
              "      <td>1.0</td>\n",
              "      <td>1.0</td>\n",
              "      <td>1.0</td>\n",
              "      <td>1.0</td>\n",
              "      <td>1.0</td>\n",
              "      <td>1.0</td>\n",
              "      <td>1.0</td>\n",
              "      <td>1.0</td>\n",
              "      <td>1.0</td>\n",
              "      <td>1.0</td>\n",
              "      <td>1.0</td>\n",
              "      <td>1.0</td>\n",
              "      <td>1.0</td>\n",
              "      <td>1.0</td>\n",
              "      <td>1.0</td>\n",
              "      <td>1.0</td>\n",
              "      <td>1.0</td>\n",
              "      <td>1.0</td>\n",
              "      <td>1.0</td>\n",
              "      <td>1.0</td>\n",
              "      <td>1.0</td>\n",
              "      <td>1.0</td>\n",
              "      <td>1.0</td>\n",
              "      <td>1.0</td>\n",
              "      <td>1.0</td>\n",
              "      <td>1.0</td>\n",
              "      <td>1.0</td>\n",
              "      <td>1.0</td>\n",
              "      <td>1.0</td>\n",
              "      <td>1.0</td>\n",
              "      <td>1.0</td>\n",
              "      <td>1.0</td>\n",
              "      <td>1.0</td>\n",
              "      <td>1.0</td>\n",
              "      <td>40000.000000</td>\n",
              "    </tr>\n",
              "    <tr>\n",
              "      <th>max</th>\n",
              "      <td>86.000000</td>\n",
              "      <td>1.000000</td>\n",
              "      <td>1.000000</td>\n",
              "      <td>1.000000</td>\n",
              "      <td>1.000000</td>\n",
              "      <td>220.000000</td>\n",
              "      <td>200000.000000</td>\n",
              "      <td>1.000000</td>\n",
              "      <td>18.000000</td>\n",
              "      <td>1.0</td>\n",
              "      <td>1.0</td>\n",
              "      <td>1.0</td>\n",
              "      <td>1.0</td>\n",
              "      <td>1.0</td>\n",
              "      <td>1.0</td>\n",
              "      <td>1.0</td>\n",
              "      <td>1.0</td>\n",
              "      <td>1.0</td>\n",
              "      <td>1.0</td>\n",
              "      <td>1.0</td>\n",
              "      <td>1.0</td>\n",
              "      <td>1.0</td>\n",
              "      <td>1.0</td>\n",
              "      <td>1.0</td>\n",
              "      <td>1000.000000</td>\n",
              "      <td>200000.000000</td>\n",
              "      <td>1.000000</td>\n",
              "      <td>1.000000</td>\n",
              "      <td>1.000000</td>\n",
              "      <td>1.000000</td>\n",
              "      <td>1.000000</td>\n",
              "      <td>1.000000</td>\n",
              "      <td>1.000000</td>\n",
              "      <td>1.000000</td>\n",
              "      <td>1.000000e+07</td>\n",
              "      <td>100.000000</td>\n",
              "      <td>200000.000000</td>\n",
              "      <td>1.000000</td>\n",
              "      <td>1.000000</td>\n",
              "      <td>1.000000</td>\n",
              "      <td>...</td>\n",
              "      <td>1.0</td>\n",
              "      <td>1.0</td>\n",
              "      <td>1.0</td>\n",
              "      <td>1.0</td>\n",
              "      <td>1.0</td>\n",
              "      <td>1.0</td>\n",
              "      <td>1.0</td>\n",
              "      <td>1.0</td>\n",
              "      <td>1.0</td>\n",
              "      <td>1.0</td>\n",
              "      <td>1.0</td>\n",
              "      <td>1.0</td>\n",
              "      <td>1.0</td>\n",
              "      <td>1.0</td>\n",
              "      <td>1.0</td>\n",
              "      <td>1.0</td>\n",
              "      <td>1.0</td>\n",
              "      <td>1.0</td>\n",
              "      <td>1.0</td>\n",
              "      <td>1.0</td>\n",
              "      <td>1.0</td>\n",
              "      <td>1.0</td>\n",
              "      <td>1.0</td>\n",
              "      <td>1.0</td>\n",
              "      <td>1.0</td>\n",
              "      <td>1.0</td>\n",
              "      <td>1.0</td>\n",
              "      <td>1.0</td>\n",
              "      <td>1.0</td>\n",
              "      <td>1.0</td>\n",
              "      <td>1.0</td>\n",
              "      <td>1.0</td>\n",
              "      <td>1.0</td>\n",
              "      <td>1.0</td>\n",
              "      <td>1.0</td>\n",
              "      <td>1.0</td>\n",
              "      <td>1.0</td>\n",
              "      <td>1.0</td>\n",
              "      <td>1.0</td>\n",
              "      <td>1000000.000000</td>\n",
              "    </tr>\n",
              "  </tbody>\n",
              "</table>\n",
              "<p>8 rows × 85 columns</p>\n",
              "</div>"
            ],
            "text/plain": [
              "                Age  AttendedBootcamp  ...  ResourceYouTube  StudentDebtOwe\n",
              "count  13613.000000      15380.000000  ...            121.0     3514.000000\n",
              "mean      29.175714          0.061964  ...              1.0    34556.143711\n",
              "std        9.017580          0.241097  ...              0.0    54423.139781\n",
              "min       10.000000          0.000000  ...              1.0        0.000000\n",
              "25%       23.000000          0.000000  ...              1.0    10000.000000\n",
              "50%       27.000000          0.000000  ...              1.0    20000.000000\n",
              "75%       33.000000          0.000000  ...              1.0    40000.000000\n",
              "max       86.000000          1.000000  ...              1.0  1000000.000000\n",
              "\n",
              "[8 rows x 85 columns]"
            ]
          },
          "metadata": {
            "tags": []
          },
          "execution_count": 4
        }
      ]
    },
    {
      "cell_type": "code",
      "metadata": {
        "id": "SZ2x5AqM3Aof",
        "outputId": "28fc0135-f94b-48da-c1c6-93faf59f961b",
        "colab": {
          "base_uri": "https://localhost:8080/"
        }
      },
      "source": [
        "df.columns.values"
      ],
      "execution_count": 5,
      "outputs": [
        {
          "output_type": "execute_result",
          "data": {
            "text/plain": [
              "array(['Age', 'AttendedBootcamp', 'BootcampFinish',\n",
              "       'BootcampFullJobAfter', 'BootcampLoanYesNo', 'BootcampMonthsAgo',\n",
              "       'BootcampName', 'BootcampPostSalary', 'BootcampRecommend',\n",
              "       'ChildrenNumber', 'CityPopulation', 'CodeEventBootcamp',\n",
              "       'CodeEventCoffee', 'CodeEventConferences', 'CodeEventDjangoGirls',\n",
              "       'CodeEventGameJam', 'CodeEventGirlDev', 'CodeEventHackathons',\n",
              "       'CodeEventMeetup', 'CodeEventNodeSchool', 'CodeEventNone',\n",
              "       'CodeEventOther', 'CodeEventRailsBridge', 'CodeEventRailsGirls',\n",
              "       'CodeEventStartUpWknd', 'CodeEventWomenCode', 'CodeEventWorkshop',\n",
              "       'CommuteTime', 'CountryCitizen', 'CountryLive', 'EmploymentField',\n",
              "       'EmploymentFieldOther', 'EmploymentStatus',\n",
              "       'EmploymentStatusOther', 'ExpectedEarning',\n",
              "       'FinanciallySupporting', 'Gender', 'HasChildren', 'HasDebt',\n",
              "       'HasFinancialDependents', 'HasHighSpdInternet', 'HasHomeMortgage',\n",
              "       'HasServedInMilitary', 'HasStudentDebt', 'HomeMortgageOwe',\n",
              "       'HoursLearning', 'ID.x', 'ID.y', 'Income', 'IsEthnicMinority',\n",
              "       'IsReceiveDiabilitiesBenefits', 'IsSoftwareDev', 'IsUnderEmployed',\n",
              "       'JobApplyWhen', 'JobPref', 'JobRelocateYesNo', 'JobRoleInterest',\n",
              "       'JobRoleInterestOther', 'JobWherePref', 'LanguageAtHome',\n",
              "       'MaritalStatus', 'MoneyForLearning', 'MonthsProgramming',\n",
              "       'NetworkID', 'Part1EndTime', 'Part1StartTime', 'Part2EndTime',\n",
              "       'Part2StartTime', 'PodcastChangeLog', 'PodcastCodeNewbie',\n",
              "       'PodcastCodingBlocks', 'PodcastDeveloperTea', 'PodcastDotNetRocks',\n",
              "       'PodcastHanselminutes', 'PodcastJSJabber', 'PodcastJsAir',\n",
              "       'PodcastNone', 'PodcastOther', 'PodcastProgrammingThrowDown',\n",
              "       'PodcastRubyRogues', 'PodcastSEDaily', 'PodcastShopTalk',\n",
              "       'PodcastTalkPython', 'PodcastWebAhead', 'ResourceBlogs',\n",
              "       'ResourceBooks', 'ResourceCodeWars', 'ResourceCodecademy',\n",
              "       'ResourceCoursera', 'ResourceDevTips', 'ResourceEdX',\n",
              "       'ResourceEggHead', 'ResourceFCC', 'ResourceGoogle',\n",
              "       'ResourceHackerRank', 'ResourceKhanAcademy', 'ResourceLynda',\n",
              "       'ResourceMDN', 'ResourceOdinProj', 'ResourceOther',\n",
              "       'ResourcePluralSight', 'ResourceReddit', 'ResourceSkillCrush',\n",
              "       'ResourceSoloLearn', 'ResourceStackOverflow', 'ResourceTreehouse',\n",
              "       'ResourceUdacity', 'ResourceUdemy', 'ResourceW3Schools',\n",
              "       'ResourceYouTube', 'SchoolDegree', 'SchoolMajor', 'StudentDebtOwe'],\n",
              "      dtype=object)"
            ]
          },
          "metadata": {
            "tags": []
          },
          "execution_count": 5
        }
      ]
    },
    {
      "cell_type": "code",
      "metadata": {
        "id": "Z1X7rDNP3Kee",
        "outputId": "22eb70a7-56ad-4d22-94cd-5f7af213ba70",
        "colab": {
          "base_uri": "https://localhost:8080/"
        }
      },
      "source": [
        "df.shape"
      ],
      "execution_count": 6,
      "outputs": [
        {
          "output_type": "execute_result",
          "data": {
            "text/plain": [
              "(15620, 113)"
            ]
          },
          "metadata": {
            "tags": []
          },
          "execution_count": 6
        }
      ]
    },
    {
      "cell_type": "markdown",
      "metadata": {
        "id": "bfJjTiW18oy3"
      },
      "source": [
        "#Criação dos Gráficos\n"
      ]
    },
    {
      "cell_type": "markdown",
      "metadata": {
        "id": "Gv2Jh4LHWLrg"
      },
      "source": [
        "Primeiramente, vamos entender como é a distribuição das idades desse data set e conforme o gráfico abaixo conseguimos perceber que a maioria dos profissionais que trabalham como programadores de software são com idades entre 20 a 30 anos e o que mais aparece no dataset é os que possuem 25 anos."
      ]
    },
    {
      "cell_type": "code",
      "metadata": {
        "id": "J5yETpL18Ypg",
        "outputId": "932289f9-584e-45ce-ddd6-f52430ee397a",
        "colab": {
          "base_uri": "https://localhost:8080/",
          "height": 598
        }
      },
      "source": [
        "plt.figure(figsize=(20,10))\n",
        "df.Age.hist(bins = 60)\n",
        "plt.xlabel(\"Idade\")\n",
        "plt.ylabel(\"Número de Profissionais\")\n",
        "plt.title(\"Distribuição de Idade\")\n",
        "plt.show()"
      ],
      "execution_count": 7,
      "outputs": [
        {
          "output_type": "display_data",
          "data": {
            "image/png": "[encoded data removed]",
            "text/plain": [
              "<Figure size 1440x720 with 1 Axes>"
            ]
          },
          "metadata": {
            "tags": [],
            "needs_background": "light"
          }
        }
      ]
    },
    {
      "cell_type": "code",
      "metadata": {
        "id": "PBkq6XmIG5dT",
        "outputId": "179c066f-c1b6-4d21-9746-b0060c3a8baf",
        "colab": {
          "base_uri": "https://localhost:8080/"
        }
      },
      "source": [
        "labels = df.Gender.value_counts().index\n",
        "labels"
      ],
      "execution_count": 8,
      "outputs": [
        {
          "output_type": "execute_result",
          "data": {
            "text/plain": [
              "Index(['male', 'female', 'genderqueer', 'agender', 'trans'], dtype='object')"
            ]
          },
          "metadata": {
            "tags": []
          },
          "execution_count": 8
        }
      ]
    },
    {
      "cell_type": "code",
      "metadata": {
        "id": "lGk-9Om-HgXo",
        "outputId": "89333514-5ccb-4965-fa18-edb6db798ef7",
        "colab": {
          "base_uri": "https://localhost:8080/"
        }
      },
      "source": [
        "num = len(df.Gender.value_counts().index)\n",
        "num"
      ],
      "execution_count": 9,
      "outputs": [
        {
          "output_type": "execute_result",
          "data": {
            "text/plain": [
              "5"
            ]
          },
          "metadata": {
            "tags": []
          },
          "execution_count": 9
        }
      ]
    },
    {
      "cell_type": "markdown",
      "metadata": {
        "id": "u22wioGPV4TB"
      },
      "source": [
        "Vamos agora entender qual a distribuição de genero dos participantes da pesquisa, infelizmente, a grande maioria dos programadores é do genero masculido, conforme gráfico abaixo:"
      ]
    },
    {
      "cell_type": "code",
      "metadata": {
        "id": "JGKu3bvRHqHI"
      },
      "source": [
        "# Criando a lista de cores\n",
        "listaHSV = [(x*1.0/num, 0.5, 0.5) for x in range(num)]\n",
        "listaRGB = list(map(lambda x: colorsys.hsv_to_rgb(*x), listaHSV))"
      ],
      "execution_count": 10,
      "outputs": []
    },
    {
      "cell_type": "code",
      "metadata": {
        "id": "JfDauB2jHv_w",
        "outputId": "ef0f1e4d-56e4-4b82-bd0b-cd7f065a919b",
        "colab": {
          "base_uri": "https://localhost:8080/",
          "height": 620
        }
      },
      "source": [
        "plt.figure(figsize= (20,10))\n",
        "fatias, texto = plt.pie(df.Gender.value_counts(), colors=listaRGB, startangle=90)\n",
        "plt.axes().set_aspect('equal','datalim')\n",
        "plt.legend(fatias,labels, bbox_to_anchor=(1.05,1))\n",
        "plt.title(\"Sexo\")\n",
        "plt.show()"
      ],
      "execution_count": 11,
      "outputs": [
        {
          "output_type": "stream",
          "text": [
            "/usr/local/lib/python3.6/dist-packages/ipykernel_launcher.py:3: MatplotlibDeprecationWarning: Adding an axes using the same arguments as a previous axes currently reuses the earlier instance.  In a future version, a new instance will always be created and returned.  Meanwhile, this warning can be suppressed, and the future behavior ensured, by passing a unique label to each axes instance.\n",
            "  This is separate from the ipykernel package so we can avoid doing imports until\n"
          ],
          "name": "stderr"
        },
        {
          "output_type": "display_data",
          "data": {
            "image/png": "[encoded data removed]",
            "text/plain": [
              "<Figure size 1440x720 with 1 Axes>"
            ]
          },
          "metadata": {
            "tags": []
          }
        }
      ]
    },
    {
      "cell_type": "code",
      "metadata": {
        "id": "k1EolnmiIVkR",
        "outputId": "073450d7-507c-4a72-a31d-be2d7ce4c241",
        "colab": {
          "base_uri": "https://localhost:8080/"
        }
      },
      "source": [
        "num = len(df.JobRoleInterest.value_counts().index)\n",
        "num"
      ],
      "execution_count": 12,
      "outputs": [
        {
          "output_type": "execute_result",
          "data": {
            "text/plain": [
              "9"
            ]
          },
          "metadata": {
            "tags": []
          },
          "execution_count": 12
        }
      ]
    },
    {
      "cell_type": "code",
      "metadata": {
        "id": "M_Aa1MFiJBiI"
      },
      "source": [
        "# Criando a lista de cores\n",
        "listaHSV = [(x*1.0/num, 0.5, 0.5) for x in range(num)]\n",
        "listaRGB = list(map(lambda x: colorsys.hsv_to_rgb(*x), listaHSV))\n",
        "labels = df.JobRoleInterest.value_counts().index\n",
        "colors = ['OliveDrab', 'Orange', 'OrangeRed', 'DarkCyan', 'Salmon', 'Sienna', 'Maroon', 'LightSlateGrey', 'DimGray']"
      ],
      "execution_count": 13,
      "outputs": []
    },
    {
      "cell_type": "markdown",
      "metadata": {
        "id": "GoO7BWsqWwdF"
      },
      "source": [
        "Vamos criar um gráfico de interresse de profissões"
      ]
    },
    {
      "cell_type": "code",
      "metadata": {
        "id": "jlCGZUqVJEXx",
        "outputId": "c3819b9c-6ac7-4c67-94b6-05b6baf772ad",
        "colab": {
          "base_uri": "https://localhost:8080/",
          "height": 323
        }
      },
      "source": [
        "# Gráfico de Pizza\n",
        "fatias, texto = plt.pie(df.JobRoleInterest.value_counts(), colors = listaRGB, startangle = 90)\n",
        "plt.axes().set_aspect('equal', 'datalim')\n",
        "plt.legend(fatias, labels, bbox_to_anchor = (1.25, 1))\n",
        "plt.title(\"Interesse Profissional\")\n",
        "plt.show()"
      ],
      "execution_count": 14,
      "outputs": [
        {
          "output_type": "stream",
          "text": [
            "/usr/local/lib/python3.6/dist-packages/ipykernel_launcher.py:3: MatplotlibDeprecationWarning: Adding an axes using the same arguments as a previous axes currently reuses the earlier instance.  In a future version, a new instance will always be created and returned.  Meanwhile, this warning can be suppressed, and the future behavior ensured, by passing a unique label to each axes instance.\n",
            "  This is separate from the ipykernel package so we can avoid doing imports until\n"
          ],
          "name": "stderr"
        },
        {
          "output_type": "display_data",
          "data": {
            "image/png": "[encoded data removed]",
            "text/plain": [
              "<Figure size 432x288 with 1 Axes>"
            ]
          },
          "metadata": {
            "tags": []
          }
        }
      ]
    },
    {
      "cell_type": "markdown",
      "metadata": {
        "id": "cngSsNTXW4g4"
      },
      "source": [
        "Podemos ver no gráfico acima que a maioria está querendo ser desenvolvedor web full-stack e o mercado de trabalho querem profissionais que entendam do back-end e do front-end, não mais profissioais separados.\n",
        "\n",
        "Em quarto lugar está a profissão de Data Science"
      ]
    },
    {
      "cell_type": "markdown",
      "metadata": {
        "id": "MQaRuOqLXNC4"
      },
      "source": [
        "O próximo gráfico será para entender qual a área de negócio dos participantes da pesquisa."
      ]
    },
    {
      "cell_type": "code",
      "metadata": {
        "id": "rPQsVxDtJImR",
        "outputId": "5d8ea5d9-f9d3-4fac-bec8-20e00fe83a1a",
        "colab": {
          "base_uri": "https://localhost:8080/",
          "height": 408
        }
      },
      "source": [
        "# Definindo a quantidade\n",
        "num = len(df.EmploymentField.value_counts().index)\n",
        "\n",
        "# Criando a lista de cores\n",
        "listaHSV = [(x*1.0/num, 0.5, 0.5) for x in range(num)]\n",
        "listaRGB = list(map(lambda x: colorsys.hsv_to_rgb(*x), listaHSV))\n",
        "labels = df.EmploymentField.value_counts().index\n",
        "\n",
        "# Gráfico de Pizza\n",
        "fatias, texto = plt.pie(df.EmploymentField.value_counts(), colors = listaRGB, startangle = 90)\n",
        "plt.axes().set_aspect('equal', 'datalim')\n",
        "plt.legend(fatias, labels, bbox_to_anchor = (1.3, 1))\n",
        "plt.title(\"Área de trabalho Atual\")\n",
        "plt.show()"
      ],
      "execution_count": 15,
      "outputs": [
        {
          "output_type": "stream",
          "text": [
            "/usr/local/lib/python3.6/dist-packages/ipykernel_launcher.py:11: MatplotlibDeprecationWarning: Adding an axes using the same arguments as a previous axes currently reuses the earlier instance.  In a future version, a new instance will always be created and returned.  Meanwhile, this warning can be suppressed, and the future behavior ensured, by passing a unique label to each axes instance.\n",
            "  # This is added back by InteractiveShellApp.init_path()\n"
          ],
          "name": "stderr"
        },
        {
          "output_type": "display_data",
          "data": {
            "image/png": "[encoded data removed]",
            "text/plain": [
              "<Figure size 432x288 with 1 Axes>"
            ]
          },
          "metadata": {
            "tags": []
          }
        }
      ]
    },
    {
      "cell_type": "markdown",
      "metadata": {
        "id": "GeArdxuPXL94"
      },
      "source": [
        "Conforme podemos ver, a grande maioria ja é desenvolvedor ou trabalha com T.I"
      ]
    },
    {
      "cell_type": "markdown",
      "metadata": {
        "id": "WJGVSXaYYASx"
      },
      "source": [
        "Será que quanto maior a idade diferencia a preferencia tipo de trabalho?\n"
      ]
    },
    {
      "cell_type": "code",
      "metadata": {
        "id": "HzSIIL0RJSCg",
        "outputId": "50fa2794-2481-49c8-cf4f-714949d9b0b9",
        "colab": {
          "base_uri": "https://localhost:8080/",
          "height": 355
        }
      },
      "source": [
        "df_ageranges = df.copy()\n",
        "bins=[0, 20, 30, 40, 50, 60, 100]\n",
        "\n",
        "df_ageranges['AgeRanges'] = pd.cut(df_ageranges['Age'],\n",
        "                                    bins,\n",
        "                                    labels=[\"<20\",\"20-30\",\"30-40\", \"40-50\", \"50-60\", \"< 60\"])\n",
        "\n",
        "df2=pd.crosstab(df_ageranges.AgeRanges,\n",
        "                df_ageranges.JobPref).apply(lambda r: r/r.sum(), axis = 1)\n",
        "                \n",
        "# Definindo a quantidade\n",
        "num = len(df_ageranges.AgeRanges.value_counts().index)\n",
        "\n",
        "# Criando a lista de cores\n",
        "listaHSV = [(x*1.0/num, 0.5, 0.5) for x in range(num)]\n",
        "listaRGB = list(map(lambda x: colorsys.hsv_to_rgb(*x), listaHSV))\n",
        "\n",
        "# Gráfico de Barras (Stacked)\n",
        "ax1 = df2.plot(kind = \"bar\", stacked = True, color = listaRGB, title = \"Preferência de Trabalho por Idade\")\n",
        "lines, labels = ax1.get_legend_handles_labels()\n",
        "ax1.legend(lines, labels, bbox_to_anchor = (1.51, 1))"
      ],
      "execution_count": 19,
      "outputs": [
        {
          "output_type": "execute_result",
          "data": {
            "text/plain": [
              "<matplotlib.legend.Legend at 0x7fe3b6870048>"
            ]
          },
          "metadata": {
            "tags": []
          },
          "execution_count": 19
        },
        {
          "output_type": "display_data",
          "data": {
            "image/png": "[encoded data removed]",
            "text/plain": [
              "<Figure size 432x288 with 1 Axes>"
            ]
          },
          "metadata": {
            "tags": [],
            "needs_background": "light"
          }
        }
      ]
    },
    {
      "cell_type": "markdown",
      "metadata": {
        "id": "JP8FopNCYJuQ"
      },
      "source": [
        "Como podemos ver, pessoas de 20 a 30 anos tem mais interresse de trabalhar em uma startup do que outras idades.\n",
        "\n",
        "Conforme a idade aumenta, maior a vontade de ser freelance aumenta também.\n",
        "\n",
        "Já os menores de 20 anos querem trabalhar em multinacional mais que as outras idades.\n"
      ]
    },
    {
      "cell_type": "markdown",
      "metadata": {
        "id": "1vg6PezFVJRr"
      },
      "source": [
        "#Realocação por Idade"
      ]
    },
    {
      "cell_type": "markdown",
      "metadata": {
        "id": "AOUvvL-7Yzwn"
      },
      "source": [
        "Agora vamos verum gráfico que mostra a procura de um novo emprego ou ser realocado"
      ]
    },
    {
      "cell_type": "code",
      "metadata": {
        "id": "-ZpudPDxVBob",
        "outputId": "eaf894d0-3c8f-488d-de46-12455d08fd65",
        "colab": {
          "base_uri": "https://localhost:8080/",
          "height": 353
        }
      },
      "source": [
        "# Qual o objetivo de realocação?\n",
        "# A vontade de buscar um novo emprego diminui com a idade. \n",
        "# Quase 80% das pessoas abaixo dos 30 anos estão preparadas para isso.\n",
        "\n",
        "# Agrupando os dados\n",
        "df3 = pd.crosstab(df_ageranges.AgeRanges, \n",
        "                  df_ageranges.JobRelocateYesNo).apply(lambda r: r/r.sum(), axis = 1)\n",
        "\n",
        "# Definindo a quantidade\n",
        "num = len(df_ageranges.AgeRanges.value_counts().index)\n",
        "\n",
        "# Criando a lista de cores\n",
        "listaHSV = [(x*1.0/num, 0.5, 0.5) for x in range(num)]\n",
        "listaRGB = list(map(lambda x: colorsys.hsv_to_rgb(*x), listaHSV))\n",
        "\n",
        "# Gráfico de Barras (Stacked)\n",
        "ax1 = df3.plot(kind = \"bar\", stacked = True, color = listaRGB, title = \"Realocação por Idade\")\n",
        "lines, labels = ax1.get_legend_handles_labels()\n",
        "ax1.legend(lines,[\"Não\", \"Sim\"], loc = 'best')"
      ],
      "execution_count": 20,
      "outputs": [
        {
          "output_type": "execute_result",
          "data": {
            "text/plain": [
              "<matplotlib.legend.Legend at 0x7fe3b69bba58>"
            ]
          },
          "metadata": {
            "tags": []
          },
          "execution_count": 20
        },
        {
          "output_type": "display_data",
          "data": {
            "image/png": "[encoded data removed]",
            "text/plain": [
              "<Figure size 432x288 with 1 Axes>"
            ]
          },
          "metadata": {
            "tags": [],
            "needs_background": "light"
          }
        }
      ]
    },
    {
      "cell_type": "markdown",
      "metadata": {
        "id": "V-Es_cr6Y9-p"
      },
      "source": [
        "Conforme aumenta a idade a busca de um novo emprego diminui"
      ]
    },
    {
      "cell_type": "markdown",
      "metadata": {
        "id": "sCEQ0hKZVU_5"
      },
      "source": [
        "#Idade x Horas de Aprendizagem\n"
      ]
    },
    {
      "cell_type": "markdown",
      "metadata": {
        "id": "-hdToaMRZMBp"
      },
      "source": [
        "No gráfico abaixo mostra que a idade dos profissonais não afera a quantidade de tempo gasto com capacitação e treinamento"
      ]
    },
    {
      "cell_type": "code",
      "metadata": {
        "id": "Ctvxma07VTcq",
        "outputId": "37935e09-1b14-4247-c4a0-839300c12bb1",
        "colab": {
          "base_uri": "https://localhost:8080/",
          "height": 346
        }
      },
      "source": [
        "# Qual a relação entre idade e horas de aprendizagem?\n",
        "# A idade dos profissionais não afeta a quantidade de tempo gasto com capacitação e treinamento.\n",
        "# Criando subset dos dados\n",
        "\n",
        "df9 = df.copy()\n",
        "df9 = df9.dropna(subset=[\"HoursLearning\"])\n",
        "df9 = df9[df['Age'].isin(range(0,70))]\n",
        "\n",
        "# Definindo os valores de x e y\n",
        "x = df9.Age\n",
        "y = df9.HoursLearning\n",
        "\n",
        "# Computando os valores e gerando o gráfico\n",
        "m, b = np.polyfit(x, y, 1)\n",
        "plt.plot(x, y, '.')\n",
        "plt.plot(x, m*x + b, '-', color = \"red\")\n",
        "plt.xlabel(\"Idade\")\n",
        "plt.ylabel(\"Horas de Treinamento\")\n",
        "plt.title(\"Idade por Horas de Treinamento\")\n",
        "plt.show()"
      ],
      "execution_count": 22,
      "outputs": [
        {
          "output_type": "stream",
          "text": [
            "/usr/local/lib/python3.6/dist-packages/ipykernel_launcher.py:7: UserWarning: Boolean Series key will be reindexed to match DataFrame index.\n",
            "  import sys\n"
          ],
          "name": "stderr"
        },
        {
          "output_type": "display_data",
          "data": {
            "image/png": "[encoded data removed]",
            "text/plain": [
              "<Figure size 432x288 with 1 Axes>"
            ]
          },
          "metadata": {
            "tags": [],
            "needs_background": "light"
          }
        }
      ]
    },
    {
      "cell_type": "markdown",
      "metadata": {
        "id": "--ORGc6yVgg4"
      },
      "source": [
        "### Investimento em Capacitação x Expectativa Salarial"
      ]
    },
    {
      "cell_type": "markdown",
      "metadata": {
        "id": "lsmvt7bKZZTx"
      },
      "source": [
        "Há sim uma expectativa salarial entre profissionais que investem em capacitação e treinamento, mas outros profissionais que investe 0 em treinamento também esperam altos salários."
      ]
    },
    {
      "cell_type": "code",
      "metadata": {
        "id": "h8r0m5m3VcRa",
        "outputId": "66f57d71-32a3-46fe-ab74-e9b30248cfcb",
        "colab": {
          "base_uri": "https://localhost:8080/",
          "height": 346
        }
      },
      "source": [
        "# Criando subset dos dados\n",
        "df5 = df.copy()\n",
        "df5 = df5.dropna(subset=[\"ExpectedEarning\"])\n",
        "df5 = df5[df['MoneyForLearning'].isin(range(0,60000))]\n",
        "\n",
        "# Definindo os valores de x e y\n",
        "x = df5.MoneyForLearning\n",
        "y = df5.ExpectedEarning\n",
        "\n",
        "# Computando os valores e gerando o gráfico\n",
        "m, b = np.polyfit(x, y, 1)\n",
        "plt.plot(x, y, '.')\n",
        "plt.plot(x, m*x + b, '-', color = \"red\")\n",
        "plt.xlabel(\"Investimento em Treinamento\")\n",
        "plt.ylabel(\"Expectativa Salarial\")\n",
        "plt.title(\"Investimento em Treinamento vs Expectativa Salarial\")\n",
        "plt.show()"
      ],
      "execution_count": 23,
      "outputs": [
        {
          "output_type": "stream",
          "text": [
            "/usr/local/lib/python3.6/dist-packages/ipykernel_launcher.py:8: UserWarning: Boolean Series key will be reindexed to match DataFrame index.\n",
            "  \n"
          ],
          "name": "stderr"
        },
        {
          "output_type": "display_data",
          "data": {
            "image/png": "[encoded data removed]",
            "text/plain": [
              "<Figure size 432x288 with 1 Axes>"
            ]
          },
          "metadata": {
            "tags": [],
            "needs_background": "light"
          }
        }
      ]
    },
    {
      "cell_type": "markdown",
      "metadata": {
        "id": "4ouTK3CVZzHR"
      },
      "source": [
        "Essa analise cumpriu com objetivo de analisar a dataset e entender mais sobre os profissionais que responderam a pesquisas."
      ]
    }
  ]
}